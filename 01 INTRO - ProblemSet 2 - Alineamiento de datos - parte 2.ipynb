{
 "cells": [
  {
   "cell_type": "markdown",
   "metadata": {},
   "source": [
    "# Alineamiento de datos\n",
    "# Parte 2: Tiempos de ejecución de bucles en Python\n",
    "\n",
    "### <font color=\"BLUE\">LEE ATENTAMENTE ESTE `notebook` EJECUTANDO SUS CELDAS. COMPLETA Y CONTESTA LAS CELDAS EN</FONT> <font color=\"red\">ROJO</FONT>"
   ]
  },
  {
   "cell_type": "markdown",
   "metadata": {},
   "source": [
    "Asegúrate de que estás ejecutando el código de este _notebook_ en la máquina y desde el directorio que quieres\n",
    "\n",
    "**$\\rightarrow$ ejecuta** (`shift` + `return`)"
   ]
  },
  {
   "cell_type": "code",
   "execution_count": null,
   "metadata": {
    "collapsed": false
   },
   "outputs": [],
   "source": [
    "import numpy as np\n",
    "import pandas as pd\n",
    "import matplotlib.pyplot as plt\n",
    "from time import time\n",
    "%matplotlib inline\n",
    "\n",
    "!echo \"HOSTNAME     \" `hostname`; \n",
    "!echo \"CURRENT DIR  \" `pwd`"
   ]
  },
  {
   "cell_type": "markdown",
   "metadata": {},
   "source": [
    "## Instrucciones\n",
    "Inspecciona y entiende el siguiente programa en Python. Observa:\n",
    "\n",
    "* como las funciones `ij` y `ji` recorren un array de dos dimensiones modificando cada elemento\n",
    "* la sintaxis de Python para acceder a elementos y recorrer un array\n",
    "* la *indentación* define el alcance de cada estructura sintáctica (`for`, `def`,..)\n",
    "* el array `a` se pasa como referencia en la llamada de la función\n",
    "\n",
    "**$\\rightarrow$ ejecuta** (`shift` + `return`)"
   ]
  },
  {
   "cell_type": "code",
   "execution_count": null,
   "metadata": {
    "collapsed": false
   },
   "outputs": [],
   "source": [
    "def ij(arr):\n",
    "    size = arr.shape[0]\n",
    "    for i in range(size):\n",
    "      for j in range(size):\n",
    "        arr[i,j] += 1\n",
    "\n",
    "def ji(arr):\n",
    "    size = arr.shape[0]\n",
    "    for j in range(size):\n",
    "      for i in range(size):\n",
    "        arr[i,j] += 1\n",
    "        \n",
    "a = np.array([[1,2,3],[4,5,6],[7,8,9]])\n",
    "print \"original ---- \\n\",a\n",
    "ji(a)\n",
    "print \"ji ---- \\n\", a\n",
    "a = np.array([[1,2,3],[4,5,6],[7,8,9]])\n",
    "ij(a)\n",
    "print \"ij ---- \\n\", a"
   ]
  },
  {
   "cell_type": "markdown",
   "metadata": {},
   "source": [
    "### La función `measure_times` invoca funciones,  mide tiempos de ejecución y escribe los resultados en un fichero\n",
    "Observa los argumentos de la función: `sizes` ha de ser un vector con los tamaños de los arrays a modificar y `functions` una lista de funciones a ejecutar sobre los arrays.\n",
    "\n",
    "**$\\rightarrow$ ejecuta** (`shift` + `return`)\n"
   ]
  },
  {
   "cell_type": "code",
   "execution_count": null,
   "metadata": {
    "collapsed": false
   },
   "outputs": [],
   "source": [
    "def measure_times(file_name, sizes, functions):\n",
    "    fr = open(file_name, \"w\")\n",
    "    header = \"iteration array_size\"\n",
    "    for f in functions:\n",
    "        header = header+\" elapsed_time_\"+f.__name__\n",
    "    fr.write(header+\"\\n\")\n",
    "    N = 10\n",
    "    c=0\n",
    "    for size in sizes:\n",
    "        times = dict()\n",
    "        for f in functions:\n",
    "            times[f.__name__] = np.zeros(N)\n",
    "            for n in range(N):\n",
    "                arr = np.zeros((size,size))\n",
    "                t0 = time()\n",
    "                f (arr)\n",
    "                times[f.__name__][n] = time()-t0\n",
    "\n",
    "        pr = \"{0:d} {1:f}\".format(c, (1.0*size**2)/1024)\n",
    "        for f in functions:\n",
    "            pr = pr + \" {0:f}\".format(np.mean(times[f.__name__]))\n",
    "                                  \n",
    "        fr.write(pr+\"\\n\")\n",
    "        c += 1\n",
    "    fr.close()"
   ]
  },
  {
   "cell_type": "markdown",
   "metadata": {},
   "source": [
    "### Medimos los tiempos de ejecución para las funciones `ij` y `ji` y cargamos los datos desde el archivo generado\n",
    "Observa cómo definimos la lista de funciones que pasamos como parámetro a `measure_times`\n",
    "\n",
    "**$\\rightarrow$ ejecuta** (`shift` + `return`)\n"
   ]
  },
  {
   "cell_type": "code",
   "execution_count": null,
   "metadata": {
    "collapsed": false
   },
   "outputs": [],
   "source": [
    "# medimos tiempos\n",
    "sizes = np.array([8, 16, 32, 64, 128, 384, 512, 640, 768] )\n",
    "functions = [ij, ji]\n",
    "file_name = \"Parrays.data\"\n",
    "measure_times(file_name, sizes, functions)\n",
    "\n",
    "# cargamos fichero con tiempos medidos\n",
    "df = pd.read_csv(file_name, sep=\" \")\n",
    "df"
   ]
  },
  {
   "cell_type": "markdown",
   "metadata": {},
   "source": [
    "### Graficamos los tiempos obtenidos\n",
    "**$\\rightarrow$ ejecuta** (`shift` + `return`)"
   ]
  },
  {
   "cell_type": "code",
   "execution_count": null,
   "metadata": {
    "collapsed": false
   },
   "outputs": [],
   "source": [
    "def plot_measured_times(data_frame):\n",
    "    it_number = data_frame['iteration']\n",
    "    x_labels  = data_frame['array_size']\n",
    "\n",
    "    ax = plt.figure(figsize=(13,5)).add_subplot(111)\n",
    "    plots = []\n",
    "    legends = []\n",
    "    for k in df.keys()[2:]:\n",
    "        p, = ax.plot(it_number,data_frame[k], linewidth=5, alpha=0.5)\n",
    "        plots = plots + [p]\n",
    "        legends = legends + [k]\n",
    "\n",
    "    ax.set_xticks(it_number)\n",
    "    ax.legend(plots, legends, loc=2)\n",
    "    ax.set_xticklabels([str(int(i)) for i in x_labels])\n",
    "    ax.set_xlabel(\"total array size (KB)\")\n",
    "    ax.set_ylabel(\"secs\")\n",
    "    \n",
    "plot_measured_times(df)"
   ]
  },
  {
   "cell_type": "markdown",
   "metadata": {},
   "source": [
    "# <font color='red'> PREGUNTAS:\n",
    "* <font color='red'> ¿Qué diferencias observas con el código en C de la parte 1?\n",
    "* <font color='red'> ¿A qué crees que se deben?"
   ]
  },
  {
   "cell_type": "markdown",
   "metadata": {},
   "source": [
    "--- TU RESPUESTA AQUí (double click) ---"
   ]
  },
  {
   "cell_type": "markdown",
   "metadata": {},
   "source": [
    "### Usamos ahora operaciones Python con semántica vectorizada\n",
    "Ejecutamos, medimos y graficamos de una sola vez\n",
    "\n",
    "# <font color='red'> TAREA: Programa la función `vectorizedB` en Python</font>\n",
    "de forma idéntica a la función `vectorizedA` pero usando el operador `+=` de Python\n",
    "\n",
    "**$\\rightarrow$ ejecuta** (`shift` + `return`)"
   ]
  },
  {
   "cell_type": "code",
   "execution_count": null,
   "metadata": {
    "collapsed": false
   },
   "outputs": [],
   "source": [
    "def vectorizedA (arr):\n",
    "    arr = arr + 1\n",
    "    \n",
    "def vectorizedB (arr):\n",
    "    ## =========== MODIFICA DESDE AQUI ============\n",
    "    ## usa el operador += añadirle 1 a cada elemento de arr\n",
    "    ## =========== MODIFICA HASTA AQUI ============\n",
    "    \n",
    "sizes     = np.array([8, 16, 32, 64, 128, 384, 512, 640, 768, 1024, 1536, 2048, 2560, 3072, 3584, 4096, 4608, 5120] )\n",
    "functions = [vectorizedA, vectorizedB]\n",
    "file_name = \"Varrays.data\"\n",
    "\n",
    "measure_times(file_name, sizes, functions)\n",
    "\n",
    "df = pd.read_csv(file_name, sep=\" \")\n",
    "\n",
    "plot_measured_times(df)\n"
   ]
  },
  {
   "cell_type": "markdown",
   "metadata": {},
   "source": [
    "# <font color='red'> PREGUNTAS:\n",
    "* <font color='red'> ¿Qué diferencias observas con el código en C de la parte 1?\n",
    "* <font color='red'> ¿A qué crees que se deben?\n",
    "* <font color='red'> ¿Cómo explicas las diferencias de tiempos entre `ij`, `ji`, `vectorizedA` y `vectorizedB`?"
   ]
  },
  {
   "cell_type": "markdown",
   "metadata": {},
   "source": [
    "--- TU RESPUESTA AQUí (double click) ---"
   ]
  },
  {
   "cell_type": "code",
   "execution_count": null,
   "metadata": {
    "collapsed": false
   },
   "outputs": [],
   "source": []
  },
  {
   "cell_type": "code",
   "execution_count": null,
   "metadata": {
    "collapsed": false
   },
   "outputs": [],
   "source": []
  }
 ],
 "metadata": {
  "kernelspec": {
   "display_name": "Python 2",
   "language": "python",
   "name": "python2"
  },
  "language_info": {
   "codemirror_mode": {
    "name": "ipython",
    "version": 2
   },
   "file_extension": ".py",
   "mimetype": "text/x-python",
   "name": "python",
   "nbconvert_exporter": "python",
   "pygments_lexer": "ipython2",
   "version": "2.7.10"
  }
 },
 "nbformat": 4,
 "nbformat_minor": 0
}
